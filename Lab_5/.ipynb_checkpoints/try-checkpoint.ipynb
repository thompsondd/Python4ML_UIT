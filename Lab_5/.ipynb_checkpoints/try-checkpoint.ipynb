{
 "cells": [
  {
   "cell_type": "code",
   "execution_count": 271,
   "id": "56bf998e",
   "metadata": {},
   "outputs": [],
   "source": [
    "import os\n",
    "import pandas as pd\n",
    "import numpy as np\n",
    "import matplotlib.pyplot as plt\n",
    "from sklearn.metrics import r2_score, mean_squared_error\n",
    "from sklearn.linear_model import LinearRegression\n",
    "from sklearn.svm import SVR\n",
    "from sklearn.ensemble import RandomForestRegressor\n",
    "from sklearn.model_selection import train_test_split\n",
    "from sklearn.preprocessing import LabelEncoder"
   ]
  },
  {
   "cell_type": "code",
   "execution_count": 190,
   "id": "590ac328",
   "metadata": {},
   "outputs": [],
   "source": [
    "#from sklearn.preprocessing import LabelEncoder, OneHotEncoder\n",
    "a = [\"a\",\"b\",\"c\"]\n",
    "#b=b.reshape((1,-1))\n",
    "c = [[\"b\"],[\"c\"]]"
   ]
  },
  {
   "cell_type": "code",
   "execution_count": 191,
   "id": "ad14c598",
   "metadata": {},
   "outputs": [],
   "source": [
    "class OnehotEncoder:\n",
    "    def __init__(self):\n",
    "        self.lenght=0\n",
    "        self.data={}\n",
    "    def fit(self,data):\n",
    "        for id,key in enumerate(data):\n",
    "            self.data[key]=id\n",
    "        self.lenght = len(data)\n",
    "    def transform(self,data):\n",
    "        ba = []\n",
    "        for i in data:\n",
    "            a = np.zeros(self.lenght,dtype=np.int32)\n",
    "            for j in i:\n",
    "                a[self.data[j]]=1\n",
    "            ba.append(a.tolist())\n",
    "        return ba"
   ]
  },
  {
   "cell_type": "code",
   "execution_count": 192,
   "id": "d2bad3fd",
   "metadata": {},
   "outputs": [],
   "source": [
    "b = OnehotEncoder()"
   ]
  },
  {
   "cell_type": "code",
   "execution_count": 193,
   "id": "7af04877",
   "metadata": {},
   "outputs": [],
   "source": [
    "b.fit(a)"
   ]
  },
  {
   "cell_type": "code",
   "execution_count": 194,
   "id": "82508591",
   "metadata": {},
   "outputs": [
    {
     "data": {
      "text/plain": [
       "[[0, 1, 0], [0, 0, 1]]"
      ]
     },
     "execution_count": 194,
     "metadata": {},
     "output_type": "execute_result"
    }
   ],
   "source": [
    "b.transform(c)"
   ]
  },
  {
   "cell_type": "code",
   "execution_count": 265,
   "id": "0d2ae7e6",
   "metadata": {},
   "outputs": [],
   "source": [
    "class Salary:\n",
    "    def __init__(self):\n",
    "        self.data=None\n",
    "        self.encoder={}\n",
    "        self.best_model=None\n",
    "        self.features = []\n",
    "    def check_str_type(self, word):\n",
    "        return str(type(word)).split()[1].split(\"'\")[1] == \"str\"\n",
    "    def process_data(self, data_path):\n",
    "        self.data = pd.read_csv(data_path)\n",
    "        self.features.append(list(self.data.columns))\n",
    "        target = self.data.columns[-1]\n",
    "        for i in self.data.columns:\n",
    "            if self.check_str_type(self.data.iloc[0][i]):\n",
    "                LaEn = OnehotEncoder()\n",
    "                temp = self.data[i].unique()\n",
    "                LaEn.fit(temp)\n",
    "                temp_data = np.array(LaEn.transform(self.data[i].values.reshape((-1,1)))).T\n",
    "                for id, key in enumerate(temp):\n",
    "                    self.data[key]=temp_data[id]\n",
    "                self.encoder.update({i:LaEn})\n",
    "                self.data.drop(i,axis=1,inplace=True)\n",
    "        return (target,list(filter(lambda x: x!=target, self.data.columns)))\n",
    "    def fit(self, data_path):\n",
    "        rank={}\n",
    "        target, feature = self.process_data(data_path)\n",
    "        X = self.data[feature].values\n",
    "        y = self.data[[target]].values\n",
    "        xtrain,xtest,ytrain,ytest = train_test_split(X,y, test_size = 0.3)\n",
    "        Linear_model = LinearRegression()\n",
    "        Linear_model.fit(xtrain,ytrain)\n",
    "        rank.update({Linear_model.score(xtest,ytest):Linear_model})\n",
    "        \n",
    "        svr_model = SVR(kernel=\"poly\", degree=5)\n",
    "        svr_model.fit(xtrain,ytrain)\n",
    "        rank.update({svr_model.score(xtest,ytest):svr_model})\n",
    "        \n",
    "        rfr_model = RandomForestRegressor(n_estimators=500)\n",
    "        rfr_model.fit(xtrain,ytrain)\n",
    "        rank.update({rfr_model.score(xtest,ytest):rfr_model})\n",
    "        self.best_model = rank[max(list(rank.keys()))]\n",
    "        \n",
    "    def predict(self, features ):\n",
    "        return self.best_model.predict(features)"
   ]
  },
  {
   "cell_type": "code",
   "execution_count": 266,
   "id": "a8c69b80",
   "metadata": {},
   "outputs": [
    {
     "name": "stdout",
     "output_type": "stream",
     "text": [
      "C:\\Users\\ACER\\Desktop\\Lab_Python4ML\n"
     ]
    }
   ],
   "source": [
    "%cd \"C:\\Users\\ACER\\Desktop\\Lab_Python4ML\""
   ]
  },
  {
   "cell_type": "code",
   "execution_count": 267,
   "id": "5188cf27",
   "metadata": {},
   "outputs": [],
   "source": [
    "a = Salary()"
   ]
  },
  {
   "cell_type": "code",
   "execution_count": 268,
   "id": "7f5c4642",
   "metadata": {},
   "outputs": [],
   "source": [
    "path = \"./Lab_1/data/Position_Salaries.csv\""
   ]
  },
  {
   "cell_type": "code",
   "execution_count": 269,
   "id": "87f2e2f0",
   "metadata": {},
   "outputs": [
    {
     "data": {
      "text/plain": [
       "array([['Business Analyst'],\n",
       "       ['Junior Consultant'],\n",
       "       ['Senior Consultant'],\n",
       "       ['Manager'],\n",
       "       ['Country Manager'],\n",
       "       ['Region Manager'],\n",
       "       ['Partner'],\n",
       "       ['Senior Partner'],\n",
       "       ['C-level'],\n",
       "       ['CEO']], dtype=object)"
      ]
     },
     "execution_count": 269,
     "metadata": {},
     "output_type": "execute_result"
    }
   ],
   "source": [
    "d = pd.read_csv(path)\n",
    "d[\"Position\"].values.reshape((-\n",
    "                              1,1))"
   ]
  },
  {
   "cell_type": "code",
   "execution_count": 270,
   "id": "3d015bac",
   "metadata": {},
   "outputs": [
    {
     "name": "stdout",
     "output_type": "stream",
     "text": [
      "Salary ['Level', 'Business Analyst', 'Junior Consultant', 'Senior Consultant', 'Manager', 'Country Manager', 'Region Manager', 'Partner', 'Senior Partner', 'C-level', 'CEO']\n"
     ]
    }
   ],
   "source": [
    "a.process_data(path)"
   ]
  },
  {
   "cell_type": "code",
   "execution_count": 263,
   "id": "76c21663",
   "metadata": {},
   "outputs": [
    {
     "data": {
      "text/plain": [
       "{'Position': <__main__.OnehotEncoder at 0x14791629a90>}"
      ]
     },
     "execution_count": 263,
     "metadata": {},
     "output_type": "execute_result"
    }
   ],
   "source": [
    "a.encoder"
   ]
  },
  {
   "cell_type": "code",
   "execution_count": 264,
   "id": "2566eb5c",
   "metadata": {},
   "outputs": [
    {
     "data": {
      "text/html": [
       "<div>\n",
       "<style scoped>\n",
       "    .dataframe tbody tr th:only-of-type {\n",
       "        vertical-align: middle;\n",
       "    }\n",
       "\n",
       "    .dataframe tbody tr th {\n",
       "        vertical-align: top;\n",
       "    }\n",
       "\n",
       "    .dataframe thead th {\n",
       "        text-align: right;\n",
       "    }\n",
       "</style>\n",
       "<table border=\"1\" class=\"dataframe\">\n",
       "  <thead>\n",
       "    <tr style=\"text-align: right;\">\n",
       "      <th></th>\n",
       "      <th>Level</th>\n",
       "      <th>Salary</th>\n",
       "      <th>Business Analyst</th>\n",
       "      <th>Junior Consultant</th>\n",
       "      <th>Senior Consultant</th>\n",
       "      <th>Manager</th>\n",
       "      <th>Country Manager</th>\n",
       "      <th>Region Manager</th>\n",
       "      <th>Partner</th>\n",
       "      <th>Senior Partner</th>\n",
       "      <th>C-level</th>\n",
       "      <th>CEO</th>\n",
       "    </tr>\n",
       "  </thead>\n",
       "  <tbody>\n",
       "    <tr>\n",
       "      <th>0</th>\n",
       "      <td>1</td>\n",
       "      <td>45000</td>\n",
       "      <td>1</td>\n",
       "      <td>0</td>\n",
       "      <td>0</td>\n",
       "      <td>0</td>\n",
       "      <td>0</td>\n",
       "      <td>0</td>\n",
       "      <td>0</td>\n",
       "      <td>0</td>\n",
       "      <td>0</td>\n",
       "      <td>0</td>\n",
       "    </tr>\n",
       "    <tr>\n",
       "      <th>1</th>\n",
       "      <td>2</td>\n",
       "      <td>50000</td>\n",
       "      <td>0</td>\n",
       "      <td>1</td>\n",
       "      <td>0</td>\n",
       "      <td>0</td>\n",
       "      <td>0</td>\n",
       "      <td>0</td>\n",
       "      <td>0</td>\n",
       "      <td>0</td>\n",
       "      <td>0</td>\n",
       "      <td>0</td>\n",
       "    </tr>\n",
       "    <tr>\n",
       "      <th>2</th>\n",
       "      <td>3</td>\n",
       "      <td>60000</td>\n",
       "      <td>0</td>\n",
       "      <td>0</td>\n",
       "      <td>1</td>\n",
       "      <td>0</td>\n",
       "      <td>0</td>\n",
       "      <td>0</td>\n",
       "      <td>0</td>\n",
       "      <td>0</td>\n",
       "      <td>0</td>\n",
       "      <td>0</td>\n",
       "    </tr>\n",
       "    <tr>\n",
       "      <th>3</th>\n",
       "      <td>4</td>\n",
       "      <td>80000</td>\n",
       "      <td>0</td>\n",
       "      <td>0</td>\n",
       "      <td>0</td>\n",
       "      <td>1</td>\n",
       "      <td>0</td>\n",
       "      <td>0</td>\n",
       "      <td>0</td>\n",
       "      <td>0</td>\n",
       "      <td>0</td>\n",
       "      <td>0</td>\n",
       "    </tr>\n",
       "    <tr>\n",
       "      <th>4</th>\n",
       "      <td>5</td>\n",
       "      <td>110000</td>\n",
       "      <td>0</td>\n",
       "      <td>0</td>\n",
       "      <td>0</td>\n",
       "      <td>0</td>\n",
       "      <td>1</td>\n",
       "      <td>0</td>\n",
       "      <td>0</td>\n",
       "      <td>0</td>\n",
       "      <td>0</td>\n",
       "      <td>0</td>\n",
       "    </tr>\n",
       "    <tr>\n",
       "      <th>5</th>\n",
       "      <td>6</td>\n",
       "      <td>150000</td>\n",
       "      <td>0</td>\n",
       "      <td>0</td>\n",
       "      <td>0</td>\n",
       "      <td>0</td>\n",
       "      <td>0</td>\n",
       "      <td>1</td>\n",
       "      <td>0</td>\n",
       "      <td>0</td>\n",
       "      <td>0</td>\n",
       "      <td>0</td>\n",
       "    </tr>\n",
       "    <tr>\n",
       "      <th>6</th>\n",
       "      <td>7</td>\n",
       "      <td>200000</td>\n",
       "      <td>0</td>\n",
       "      <td>0</td>\n",
       "      <td>0</td>\n",
       "      <td>0</td>\n",
       "      <td>0</td>\n",
       "      <td>0</td>\n",
       "      <td>1</td>\n",
       "      <td>0</td>\n",
       "      <td>0</td>\n",
       "      <td>0</td>\n",
       "    </tr>\n",
       "    <tr>\n",
       "      <th>7</th>\n",
       "      <td>8</td>\n",
       "      <td>300000</td>\n",
       "      <td>0</td>\n",
       "      <td>0</td>\n",
       "      <td>0</td>\n",
       "      <td>0</td>\n",
       "      <td>0</td>\n",
       "      <td>0</td>\n",
       "      <td>0</td>\n",
       "      <td>1</td>\n",
       "      <td>0</td>\n",
       "      <td>0</td>\n",
       "    </tr>\n",
       "    <tr>\n",
       "      <th>8</th>\n",
       "      <td>9</td>\n",
       "      <td>500000</td>\n",
       "      <td>0</td>\n",
       "      <td>0</td>\n",
       "      <td>0</td>\n",
       "      <td>0</td>\n",
       "      <td>0</td>\n",
       "      <td>0</td>\n",
       "      <td>0</td>\n",
       "      <td>0</td>\n",
       "      <td>1</td>\n",
       "      <td>0</td>\n",
       "    </tr>\n",
       "    <tr>\n",
       "      <th>9</th>\n",
       "      <td>10</td>\n",
       "      <td>1000000</td>\n",
       "      <td>0</td>\n",
       "      <td>0</td>\n",
       "      <td>0</td>\n",
       "      <td>0</td>\n",
       "      <td>0</td>\n",
       "      <td>0</td>\n",
       "      <td>0</td>\n",
       "      <td>0</td>\n",
       "      <td>0</td>\n",
       "      <td>1</td>\n",
       "    </tr>\n",
       "  </tbody>\n",
       "</table>\n",
       "</div>"
      ],
      "text/plain": [
       "   Level   Salary  Business Analyst  Junior Consultant  Senior Consultant  \\\n",
       "0      1    45000                 1                  0                  0   \n",
       "1      2    50000                 0                  1                  0   \n",
       "2      3    60000                 0                  0                  1   \n",
       "3      4    80000                 0                  0                  0   \n",
       "4      5   110000                 0                  0                  0   \n",
       "5      6   150000                 0                  0                  0   \n",
       "6      7   200000                 0                  0                  0   \n",
       "7      8   300000                 0                  0                  0   \n",
       "8      9   500000                 0                  0                  0   \n",
       "9     10  1000000                 0                  0                  0   \n",
       "\n",
       "   Manager  Country Manager  Region Manager  Partner  Senior Partner  C-level  \\\n",
       "0        0                0               0        0               0        0   \n",
       "1        0                0               0        0               0        0   \n",
       "2        0                0               0        0               0        0   \n",
       "3        1                0               0        0               0        0   \n",
       "4        0                1               0        0               0        0   \n",
       "5        0                0               1        0               0        0   \n",
       "6        0                0               0        1               0        0   \n",
       "7        0                0               0        0               1        0   \n",
       "8        0                0               0        0               0        1   \n",
       "9        0                0               0        0               0        0   \n",
       "\n",
       "   CEO  \n",
       "0    0  \n",
       "1    0  \n",
       "2    0  \n",
       "3    0  \n",
       "4    0  \n",
       "5    0  \n",
       "6    0  \n",
       "7    0  \n",
       "8    0  \n",
       "9    1  "
      ]
     },
     "execution_count": 264,
     "metadata": {},
     "output_type": "execute_result"
    }
   ],
   "source": [
    "a.data"
   ]
  },
  {
   "cell_type": "code",
   "execution_count": null,
   "id": "b864aab8",
   "metadata": {},
   "outputs": [],
   "source": []
  },
  {
   "cell_type": "code",
   "execution_count": null,
   "id": "cc91cafe",
   "metadata": {},
   "outputs": [],
   "source": []
  }
 ],
 "metadata": {
  "kernelspec": {
   "display_name": "Python 3 (ipykernel)",
   "language": "python",
   "name": "python3"
  },
  "language_info": {
   "codemirror_mode": {
    "name": "ipython",
    "version": 3
   },
   "file_extension": ".py",
   "mimetype": "text/x-python",
   "name": "python",
   "nbconvert_exporter": "python",
   "pygments_lexer": "ipython3",
   "version": "3.9.13"
  }
 },
 "nbformat": 4,
 "nbformat_minor": 5
}
