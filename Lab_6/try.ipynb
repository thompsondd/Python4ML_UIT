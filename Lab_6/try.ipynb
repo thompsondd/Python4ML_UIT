{
 "cells": [
  {
   "cell_type": "code",
   "execution_count": 5,
   "id": "3a8b2e00",
   "metadata": {},
   "outputs": [],
   "source": [
    "import os\n",
    "import pandas as pd\n",
    "import numpy as np\n",
    "import matplotlib.pyplot as plt\n",
    "from sklearn.metrics import r2_score, mean_squared_error\n",
    "from sklearn.linear_model import LinearRegression\n",
    "from sklearn.svm import SVR\n",
    "from sklearn.ensemble import RandomForestRegressor\n",
    "from sklearn.model_selection import train_test_split\n",
    "from sklearn.preprocessing import LabelEncoder"
   ]
  },
  {
   "cell_type": "code",
   "execution_count": 6,
   "id": "15106968",
   "metadata": {},
   "outputs": [],
   "source": [
    "#from sklearn.preprocessing import LabelEncoder, OneHotEncoder\n",
    "a = [\"a\",\"b\",\"c\"]\n",
    "#b=b.reshape((1,-1))\n",
    "c = [[\"b\"],[\"c\"]]"
   ]
  },
  {
   "cell_type": "code",
   "execution_count": 7,
   "id": "ad5901f1",
   "metadata": {},
   "outputs": [],
   "source": [
    "class OnehotEncoder:\n",
    "    def __init__(self):\n",
    "        self.lenght=0\n",
    "        self.data={}\n",
    "    def fit(self,data):\n",
    "        for id,key in enumerate(data):\n",
    "            self.data[key]=id\n",
    "        self.lenght = len(data)\n",
    "    def transform(self,data):\n",
    "        ba = []\n",
    "        for i in data:\n",
    "            a = np.zeros(self.lenght,dtype=np.int32)\n",
    "            for j in i:\n",
    "                a[self.data[j]]=1\n",
    "            ba.append(a.tolist())\n",
    "        return ba"
   ]
  },
  {
   "cell_type": "code",
   "execution_count": 8,
   "id": "cd9378d2",
   "metadata": {},
   "outputs": [],
   "source": [
    "b = OnehotEncoder()"
   ]
  },
  {
   "cell_type": "code",
   "execution_count": 9,
   "id": "3e9a50f0",
   "metadata": {},
   "outputs": [],
   "source": [
    "b.fit(a)"
   ]
  },
  {
   "cell_type": "code",
   "execution_count": 10,
   "id": "8e1ed153",
   "metadata": {},
   "outputs": [
    {
     "data": {
      "text/plain": [
       "[[0, 1, 0], [0, 0, 1]]"
      ]
     },
     "execution_count": 10,
     "metadata": {},
     "output_type": "execute_result"
    }
   ],
   "source": [
    "b.transform(c)"
   ]
  },
  {
   "cell_type": "code",
   "execution_count": 95,
   "id": "af4cb967",
   "metadata": {},
   "outputs": [],
   "source": [
    "class Model_AI:\n",
    "    def __init__(self):\n",
    "        self.data=None\n",
    "        self.encoder={}\n",
    "        self.best_model=None\n",
    "        self.features = []\n",
    "        self.str_col=[]\n",
    "    def check_str_type(self, word):\n",
    "        return str(type(word)).split()[1].split(\"'\")[1] == \"str\"\n",
    "    def process_data(self, data_path):\n",
    "        self.data = pd.read_csv(data_path)\n",
    "        self.origin_data = self.data.copy()\n",
    "        self.features.append(list(self.data.columns))\n",
    "        self.target = self.data.columns[-1]\n",
    "        for i in self.data.columns:\n",
    "            if self.check_str_type(self.data.iloc[0][i]):\n",
    "                LaEn = OnehotEncoder()\n",
    "                temp = self.data[i].unique()\n",
    "                LaEn.fit(temp)\n",
    "                self.str_col.append(i)\n",
    "                temp_data = np.array(LaEn.transform(self.data[i].values.reshape((-1,1)))).T\n",
    "                for id, key in enumerate(temp):\n",
    "                    self.data[key]=temp_data[id]\n",
    "                self.encoder.update({i:LaEn})\n",
    "                self.data.drop(i,axis=1,inplace=True)\n",
    "        return (self.target,list(filter(lambda x: x!=self.target, self.data.columns)))\n",
    "    def fit(self, data_path):\n",
    "        rank={}\n",
    "        target, feature = self.process_data(data_path)\n",
    "        X = self.data[feature].values\n",
    "        y = self.data[[target]].values\n",
    "        xtrain,xtest,ytrain,ytest = train_test_split(X,y, test_size = 0.3)\n",
    "        Linear_model = LinearRegression()\n",
    "        Linear_model.fit(xtrain,ytrain)\n",
    "        rank.update({Linear_model.score(xtest,ytest):Linear_model})\n",
    "        \n",
    "        svr_model = SVR(kernel=\"poly\", degree=5)\n",
    "        svr_model.fit(xtrain,ytrain)\n",
    "        rank.update({svr_model.score(xtest,ytest):svr_model})\n",
    "        \n",
    "        rfr_model = RandomForestRegressor(n_estimators=500)\n",
    "        rfr_model.fit(xtrain,ytrain)\n",
    "        rank.update({rfr_model.score(xtest,ytest):rfr_model})\n",
    "        self.best_model = rank[max(list(rank.keys()))]\n",
    "    def extract_vector(self,features):\n",
    "        feature_vector = []\n",
    "        for i in features.keys():\n",
    "            if i not in self.str_col:\n",
    "                feature_vector.append(features[i])\n",
    "        for i in self.str_col:\n",
    "            feature_vector.extend(self.encoder[i].transform([[features[i]]])[0])\n",
    "        return feature_vector\n",
    "    def predict(self, features):\n",
    "        '''\n",
    "            features = { Position:..., Level:...}\n",
    "        '''\n",
    "        features = self.extract_vector(features)\n",
    "        #return features\n",
    "        return self.best_model.predict([features])\n"
   ]
  },
  {
   "cell_type": "code",
   "execution_count": 99,
   "id": "5e0a338e",
   "metadata": {
    "scrolled": true
   },
   "outputs": [
    {
     "name": "stdout",
     "output_type": "stream",
     "text": [
      "C:\\Users\\Dang\\Desktop\\Python4ML_UIT\n"
     ]
    }
   ],
   "source": [
    "%cd \"C:\\Users\\Dang\\Desktop\\Python4ML_UIT\""
   ]
  },
  {
   "cell_type": "code",
   "execution_count": 100,
   "id": "2f922a27",
   "metadata": {},
   "outputs": [],
   "source": [
    "a = Model_AI()"
   ]
  },
  {
   "cell_type": "code",
   "execution_count": 101,
   "id": "d612468a",
   "metadata": {},
   "outputs": [],
   "source": [
    "path = \"./Lab_1/data/Position_Salaries.csv\""
   ]
  },
  {
   "cell_type": "code",
   "execution_count": 102,
   "id": "cb9716e9",
   "metadata": {},
   "outputs": [
    {
     "name": "stderr",
     "output_type": "stream",
     "text": [
      "C:\\Users\\Dang\\anaconda3\\envs\\CS116\\lib\\site-packages\\sklearn\\utils\\validation.py:993: DataConversionWarning: A column-vector y was passed when a 1d array was expected. Please change the shape of y to (n_samples, ), for example using ravel().\n",
      "  y = column_or_1d(y, warn=True)\n",
      "C:\\Users\\Dang\\AppData\\Local\\Temp\\ipykernel_11000\\3856323768.py:42: DataConversionWarning: A column-vector y was passed when a 1d array was expected. Please change the shape of y to (n_samples,), for example using ravel().\n",
      "  rfr_model.fit(xtrain,ytrain)\n"
     ]
    }
   ],
   "source": [
    "a.fit(path)"
   ]
  },
  {
   "cell_type": "code",
   "execution_count": 103,
   "id": "8d760e0f",
   "metadata": {},
   "outputs": [
    {
     "data": {
      "text/plain": [
       "RandomForestRegressor(n_estimators=500)"
      ]
     },
     "execution_count": 103,
     "metadata": {},
     "output_type": "execute_result"
    }
   ],
   "source": [
    "a.best_model"
   ]
  },
  {
   "cell_type": "code",
   "execution_count": 108,
   "id": "f3002182",
   "metadata": {},
   "outputs": [],
   "source": [
    "feature = {\"Position\":\"Partner\",\"Level\":2}"
   ]
  },
  {
   "cell_type": "code",
   "execution_count": 109,
   "id": "6c1596d6",
   "metadata": {},
   "outputs": [
    {
     "name": "stdout",
     "output_type": "stream",
     "text": [
      "88160.0\n"
     ]
    }
   ],
   "source": [
    "print(a.predict(feature)[0])"
   ]
  },
  {
   "cell_type": "code",
   "execution_count": 110,
   "id": "c8582fd3",
   "metadata": {},
   "outputs": [
    {
     "data": {
      "text/plain": [
       "array([[0]])"
      ]
     },
     "execution_count": 110,
     "metadata": {},
     "output_type": "execute_result"
    }
   ],
   "source": [
    "a=np.array([[0]])\n",
    "a"
   ]
  },
  {
   "cell_type": "code",
   "execution_count": 111,
   "id": "bde74994",
   "metadata": {},
   "outputs": [
    {
     "data": {
      "text/plain": [
       "array([0])"
      ]
     },
     "execution_count": 111,
     "metadata": {},
     "output_type": "execute_result"
    }
   ],
   "source": [
    "a.reshape(1)"
   ]
  },
  {
   "cell_type": "code",
   "execution_count": null,
   "id": "87a1f42e",
   "metadata": {},
   "outputs": [],
   "source": []
  }
 ],
 "metadata": {
  "kernelspec": {
   "display_name": "Python 3 (ipykernel)",
   "language": "python",
   "name": "python3"
  },
  "language_info": {
   "codemirror_mode": {
    "name": "ipython",
    "version": 3
   },
   "file_extension": ".py",
   "mimetype": "text/x-python",
   "name": "python",
   "nbconvert_exporter": "python",
   "pygments_lexer": "ipython3",
   "version": "3.9.13"
  }
 },
 "nbformat": 4,
 "nbformat_minor": 5
}
