{
 "cells": [
  {
   "cell_type": "markdown",
   "id": "e53f2044",
   "metadata": {},
   "source": [
    "Họ tên: Nguyễn Huỳnh Hải Đăng \\\n",
    "MSSV: 20521159"
   ]
  },
  {
   "cell_type": "markdown",
   "id": "59e35e1b",
   "metadata": {
    "id": "UlIbafnzH2kc"
   },
   "source": [
    "# Load libarary and data"
   ]
  },
  {
   "cell_type": "code",
   "execution_count": 1,
   "id": "10641f14",
   "metadata": {
    "id": "iT2xbGdNEPqJ"
   },
   "outputs": [],
   "source": [
    "import matplotlib.pyplot as plt\n",
    "from geopandas.tools import sjoin\n",
    "import geopandas as gpd\n",
    "import pandas as pd\n",
    "import folium\n",
    "import numpy as np\n",
    "from sklearn.cluster import KMeans\n",
    "import os\n",
    "%matplotlib inline"
   ]
  },
  {
   "cell_type": "code",
   "execution_count": 2,
   "id": "2e3df221",
   "metadata": {
    "id": "UGY-SXsBEvZZ"
   },
   "outputs": [],
   "source": [
    "path_data=\"../Lab_2_3/data/CSL_HCMC/Data/GIS/Population/population_HCMC/population_shapefile/Population_District_Level.shp\"\n",
    "path_data_click=\"./data/click_data.json\""
   ]
  },
  {
   "cell_type": "code",
   "execution_count": 3,
   "id": "8eb75058",
   "metadata": {},
   "outputs": [
    {
     "data": {
      "text/plain": [
       "True"
      ]
     },
     "execution_count": 3,
     "metadata": {},
     "output_type": "execute_result"
    }
   ],
   "source": [
    "os.path.exists(path_data)"
   ]
  },
  {
   "cell_type": "code",
   "execution_count": 4,
   "id": "3f7f529e",
   "metadata": {},
   "outputs": [
    {
     "data": {
      "text/plain": [
       "['.git',\n",
       " '.gitignore',\n",
       " '.gitmodules',\n",
       " '.ipynb_checkpoints',\n",
       " 'Data',\n",
       " 'data_analysis',\n",
       " 'index.html',\n",
       " 'modules',\n",
       " 'outputs',\n",
       " 'README.md',\n",
       " 'scenarios',\n",
       " 'Software_VN']"
      ]
     },
     "execution_count": 4,
     "metadata": {},
     "output_type": "execute_result"
    }
   ],
   "source": [
    "os.listdir(\"../Lab_2_3/data/CSL_HCMC\")"
   ]
  },
  {
   "cell_type": "code",
   "execution_count": 5,
   "id": "9b4321b0",
   "metadata": {
    "id": "5U955oHFFCEu"
   },
   "outputs": [],
   "source": [
    "data = gpd.read_file(path_data)"
   ]
  },
  {
   "cell_type": "code",
   "execution_count": 6,
   "id": "08e8009b",
   "metadata": {
    "colab": {
     "base_uri": "https://localhost:8080/",
     "height": 0
    },
    "id": "4pASrt_3FJ-G",
    "outputId": "71d8a6bf-0dd0-4187-c133-9096fed457ec"
   },
   "outputs": [],
   "source": [
    "data = data.to_crs(epsg=4326)"
   ]
  },
  {
   "cell_type": "code",
   "execution_count": 7,
   "id": "d53adf24",
   "metadata": {},
   "outputs": [],
   "source": [
    "data_new = data[[\"Dist_ID\",\"Dist_Name\",\"Shape_Leng\",\"Shape_Area\",\"geometry\"]]\n",
    "data_new = data_new.to_crs(epsg=4326)\n",
    "#data_new.head()"
   ]
  },
  {
   "cell_type": "code",
   "execution_count": 8,
   "id": "ab8f9892",
   "metadata": {},
   "outputs": [],
   "source": [
    "data_click = gpd.read_file(path_data_click)"
   ]
  },
  {
   "cell_type": "code",
   "execution_count": 9,
   "id": "90a2cd59",
   "metadata": {},
   "outputs": [],
   "source": [
    "data4heatmap = data[[\"Dist_ID\",\"Dist_Name\",\"Den_2017\",\"Den_2019\",\"Shape_Leng\",\"Shape_Area\",\"geometry\"]]"
   ]
  },
  {
   "cell_type": "code",
   "execution_count": 10,
   "id": "ccaa835a",
   "metadata": {},
   "outputs": [
    {
     "name": "stderr",
     "output_type": "stream",
     "text": [
      "C:\\Users\\Dang\\anaconda3\\envs\\CS116\\lib\\site-packages\\geopandas\\geodataframe.py:1322: SettingWithCopyWarning: \n",
      "A value is trying to be set on a copy of a slice from a DataFrame.\n",
      "Try using .loc[row_indexer,col_indexer] = value instead\n",
      "\n",
      "See the caveats in the documentation: https://pandas.pydata.org/pandas-docs/stable/user_guide/indexing.html#returning-a-view-versus-a-copy\n",
      "  super(GeoDataFrame, self).__setitem__(key, value)\n"
     ]
    }
   ],
   "source": [
    "data4heatmap[\"Rate_den_grow\"] = data4heatmap[\"Den_2019\"]/data4heatmap[\"Den_2017\"]"
   ]
  },
  {
   "cell_type": "code",
   "execution_count": 11,
   "id": "b1f4c99b",
   "metadata": {},
   "outputs": [],
   "source": [
    "data4heatmap_5 = data4heatmap.sort_values(\"Rate_den_grow\").tail()[[\"Dist_ID\",\"Dist_Name\",\"Shape_Leng\",\"Shape_Area\",\"geometry\"]]"
   ]
  },
  {
   "cell_type": "code",
   "execution_count": 12,
   "id": "a609a3d9",
   "metadata": {},
   "outputs": [],
   "source": [
    "data_dist_click = sjoin(data_click,data4heatmap_5)"
   ]
  },
  {
   "cell_type": "code",
   "execution_count": 13,
   "id": "256c14e9",
   "metadata": {},
   "outputs": [],
   "source": [
    "data_dist_click[\"x\"]= data_dist_click.geometry.x\n",
    "data_dist_click[\"y\"]= data_dist_click.geometry.y"
   ]
  },
  {
   "cell_type": "code",
   "execution_count": 14,
   "id": "066e7b75",
   "metadata": {},
   "outputs": [
    {
     "name": "stderr",
     "output_type": "stream",
     "text": [
      "C:\\Users\\Dang\\anaconda3\\envs\\CS116\\lib\\site-packages\\geopandas\\geodataframe.py:1322: SettingWithCopyWarning: \n",
      "A value is trying to be set on a copy of a slice from a DataFrame.\n",
      "Try using .loc[row_indexer,col_indexer] = value instead\n",
      "\n",
      "See the caveats in the documentation: https://pandas.pydata.org/pandas-docs/stable/user_guide/indexing.html#returning-a-view-versus-a-copy\n",
      "  super(GeoDataFrame, self).__setitem__(key, value)\n",
      "C:\\Users\\Dang\\anaconda3\\envs\\CS116\\lib\\site-packages\\geopandas\\geodataframe.py:1322: SettingWithCopyWarning: \n",
      "A value is trying to be set on a copy of a slice from a DataFrame.\n",
      "Try using .loc[row_indexer,col_indexer] = value instead\n",
      "\n",
      "See the caveats in the documentation: https://pandas.pydata.org/pandas-docs/stable/user_guide/indexing.html#returning-a-view-versus-a-copy\n",
      "  super(GeoDataFrame, self).__setitem__(key, value)\n",
      "C:\\Users\\Dang\\anaconda3\\envs\\CS116\\lib\\site-packages\\geopandas\\geodataframe.py:1322: SettingWithCopyWarning: \n",
      "A value is trying to be set on a copy of a slice from a DataFrame.\n",
      "Try using .loc[row_indexer,col_indexer] = value instead\n",
      "\n",
      "See the caveats in the documentation: https://pandas.pydata.org/pandas-docs/stable/user_guide/indexing.html#returning-a-view-versus-a-copy\n",
      "  super(GeoDataFrame, self).__setitem__(key, value)\n",
      "C:\\Users\\Dang\\anaconda3\\envs\\CS116\\lib\\site-packages\\geopandas\\geodataframe.py:1322: SettingWithCopyWarning: \n",
      "A value is trying to be set on a copy of a slice from a DataFrame.\n",
      "Try using .loc[row_indexer,col_indexer] = value instead\n",
      "\n",
      "See the caveats in the documentation: https://pandas.pydata.org/pandas-docs/stable/user_guide/indexing.html#returning-a-view-versus-a-copy\n",
      "  super(GeoDataFrame, self).__setitem__(key, value)\n",
      "C:\\Users\\Dang\\anaconda3\\envs\\CS116\\lib\\site-packages\\geopandas\\geodataframe.py:1322: SettingWithCopyWarning: \n",
      "A value is trying to be set on a copy of a slice from a DataFrame.\n",
      "Try using .loc[row_indexer,col_indexer] = value instead\n",
      "\n",
      "See the caveats in the documentation: https://pandas.pydata.org/pandas-docs/stable/user_guide/indexing.html#returning-a-view-versus-a-copy\n",
      "  super(GeoDataFrame, self).__setitem__(key, value)\n"
     ]
    }
   ],
   "source": [
    "list_points=[]\n",
    "for dist in data_dist_click.Dist_Name.unique():\n",
    "    df_temp = data_dist_click[data_dist_click['Dist_Name']==dist]\n",
    "    model = KMeans(n_clusters=20, random_state=0)\n",
    "    model.fit_predict(df_temp[['x', 'y']])\n",
    "    df_temp['label'] = model.labels_\n",
    "    max_label = df_temp.groupby('label').count().idxmax()[0]\n",
    "    points = df_temp[df_temp['label']==max_label]['geometry'].tolist()\n",
    "    list_points+=points"
   ]
  },
  {
   "cell_type": "code",
   "execution_count": 15,
   "id": "552b4dcd",
   "metadata": {},
   "outputs": [],
   "source": [
    "#model = KMeans(20)"
   ]
  },
  {
   "cell_type": "code",
   "execution_count": 16,
   "id": "a087bc6c",
   "metadata": {},
   "outputs": [],
   "source": [
    "#model.fit(data_dist_click[[\"Dist_ID\",\"dbh\",\"x\",\"y\"]].values)"
   ]
  },
  {
   "cell_type": "code",
   "execution_count": 17,
   "id": "d0e82ec2",
   "metadata": {},
   "outputs": [],
   "source": [
    "#data_dist_click[\"label\"] = model.labels_"
   ]
  },
  {
   "cell_type": "code",
   "execution_count": 18,
   "id": "15cef77a",
   "metadata": {},
   "outputs": [],
   "source": [
    "#d4hm = data_dist_click[[\"geometry\",\"Dist_Name\",\"label\"]]"
   ]
  },
  {
   "cell_type": "code",
   "execution_count": 19,
   "id": "ade3a60f",
   "metadata": {},
   "outputs": [],
   "source": [
    "def get_max_label_for_dist(dataframe, name_dist):\n",
    "    return dataframe[dataframe[\"Dist_Name\"]==name_dist][[\"geometry\",\"label\"]].groupby(\"label\").count().idxmax()[0]    "
   ]
  },
  {
   "cell_type": "code",
   "execution_count": 20,
   "id": "3f95793c",
   "metadata": {},
   "outputs": [],
   "source": [
    "def get_max_label_for_map(dataframe):\n",
    "    new_data = {\"Dist_Name\":[],\"label\":[]}\n",
    "    for name_dist in dataframe[\"Dist_Name\"].unique():\n",
    "        new_data[\"Dist_Name\"].append(name_dist)\n",
    "        new_data[\"label\"].append(get_max_label_for_dist(dataframe, name_dist))\n",
    "    return pd.DataFrame(new_data)"
   ]
  },
  {
   "cell_type": "code",
   "execution_count": 21,
   "id": "ca1325a4",
   "metadata": {},
   "outputs": [],
   "source": [
    "#Ml4m=get_max_label_for_map(d4hm)"
   ]
  },
  {
   "cell_type": "code",
   "execution_count": 22,
   "id": "464712f7",
   "metadata": {},
   "outputs": [],
   "source": [
    "#points = data_dist_click[data_dist_click[\"Dist_Name\"].isin(Ml4m[\"Dist_Name\"])&data_dist_click[\"label\"].isin(Ml4m[\"label\"])]"
   ]
  },
  {
   "cell_type": "code",
   "execution_count": 23,
   "id": "0c5a76c9",
   "metadata": {},
   "outputs": [
    {
     "data": {
      "text/html": [
       "<div style=\"width:100%;\"><div style=\"position:relative;width:100%;height:0;padding-bottom:60%;\"><span style=\"color:#565656\">Make this Notebook Trusted to load map: File -> Trust Notebook</span><iframe srcdoc=\"&lt;!DOCTYPE html&gt;\n",
       "&lt;head&gt;    \n",
       "    &lt;meta http-equiv=&quot;content-type&quot; content=&quot;text/html; charset=UTF-8&quot; /&gt;\n",
       "    \n",
       "        &lt;script&gt;\n",
       "            L_NO_TOUCH = false;\n",
       "            L_DISABLE_3D = false;\n",
       "        &lt;/script&gt;\n",
       "    \n",
       "    &lt;style&gt;html, body {width: 100%;height: 100%;margin: 0;padding: 0;}&lt;/style&gt;\n",
       "    &lt;style&gt;#map {position:absolute;top:0;bottom:0;right:0;left:0;}&lt;/style&gt;\n",
       "    &lt;script src=&quot;https://cdn.jsdelivr.net/npm/leaflet@1.6.0/dist/leaflet.js&quot;&gt;&lt;/script&gt;\n",
       "    &lt;script src=&quot;https://code.jquery.com/jquery-1.12.4.min.js&quot;&gt;&lt;/script&gt;\n",
       "    &lt;script src=&quot;https://maxcdn.bootstrapcdn.com/bootstrap/3.2.0/js/bootstrap.min.js&quot;&gt;&lt;/script&gt;\n",
       "    &lt;script src=&quot;https://cdnjs.cloudflare.com/ajax/libs/Leaflet.awesome-markers/2.0.2/leaflet.awesome-markers.js&quot;&gt;&lt;/script&gt;\n",
       "    &lt;link rel=&quot;stylesheet&quot; href=&quot;https://cdn.jsdelivr.net/npm/leaflet@1.6.0/dist/leaflet.css&quot;/&gt;\n",
       "    &lt;link rel=&quot;stylesheet&quot; href=&quot;https://maxcdn.bootstrapcdn.com/bootstrap/3.2.0/css/bootstrap.min.css&quot;/&gt;\n",
       "    &lt;link rel=&quot;stylesheet&quot; href=&quot;https://maxcdn.bootstrapcdn.com/bootstrap/3.2.0/css/bootstrap-theme.min.css&quot;/&gt;\n",
       "    &lt;link rel=&quot;stylesheet&quot; href=&quot;https://maxcdn.bootstrapcdn.com/font-awesome/4.6.3/css/font-awesome.min.css&quot;/&gt;\n",
       "    &lt;link rel=&quot;stylesheet&quot; href=&quot;https://cdnjs.cloudflare.com/ajax/libs/Leaflet.awesome-markers/2.0.2/leaflet.awesome-markers.css&quot;/&gt;\n",
       "    &lt;link rel=&quot;stylesheet&quot; href=&quot;https://cdn.jsdelivr.net/gh/python-visualization/folium/folium/templates/leaflet.awesome.rotate.min.css&quot;/&gt;\n",
       "    \n",
       "            &lt;meta name=&quot;viewport&quot; content=&quot;width=device-width,\n",
       "                initial-scale=1.0, maximum-scale=1.0, user-scalable=no&quot; /&gt;\n",
       "            &lt;style&gt;\n",
       "                #map_a7b18d94df390b324de43d4d02e4b9a5 {\n",
       "                    position: relative;\n",
       "                    width: 100.0%;\n",
       "                    height: 100.0%;\n",
       "                    left: 0.0%;\n",
       "                    top: 0.0%;\n",
       "                }\n",
       "            &lt;/style&gt;\n",
       "        \n",
       "    &lt;script src=&quot;https://cdn.jsdelivr.net/gh/python-visualization/folium@master/folium/templates/leaflet_heat.min.js&quot;&gt;&lt;/script&gt;\n",
       "&lt;/head&gt;\n",
       "&lt;body&gt;    \n",
       "    \n",
       "            &lt;div class=&quot;folium-map&quot; id=&quot;map_a7b18d94df390b324de43d4d02e4b9a5&quot; &gt;&lt;/div&gt;\n",
       "        \n",
       "&lt;/body&gt;\n",
       "&lt;script&gt;    \n",
       "    \n",
       "            var map_a7b18d94df390b324de43d4d02e4b9a5 = L.map(\n",
       "                &quot;map_a7b18d94df390b324de43d4d02e4b9a5&quot;,\n",
       "                {\n",
       "                    center: [10.772095, 106.701965],\n",
       "                    crs: L.CRS.EPSG3857,\n",
       "                    zoom: 12,\n",
       "                    zoomControl: true,\n",
       "                    preferCanvas: false,\n",
       "                }\n",
       "            );\n",
       "\n",
       "            \n",
       "\n",
       "        \n",
       "    \n",
       "            var tile_layer_69c26818c10c3002973872f65884fc5a = L.tileLayer(\n",
       "                &quot;https://{s}.tile.openstreetmap.org/{z}/{x}/{y}.png&quot;,\n",
       "                {&quot;attribution&quot;: &quot;Data by \\u0026copy; \\u003ca href=\\&quot;http://openstreetmap.org\\&quot;\\u003eOpenStreetMap\\u003c/a\\u003e, under \\u003ca href=\\&quot;http://www.openstreetmap.org/copyright\\&quot;\\u003eODbL\\u003c/a\\u003e.&quot;, &quot;detectRetina&quot;: false, &quot;maxNativeZoom&quot;: 18, &quot;maxZoom&quot;: 18, &quot;minZoom&quot;: 0, &quot;noWrap&quot;: false, &quot;opacity&quot;: 1, &quot;subdomains&quot;: &quot;abc&quot;, &quot;tms&quot;: false}\n",
       "            ).addTo(map_a7b18d94df390b324de43d4d02e4b9a5);\n",
       "        \n",
       "    \n",
       "            var heat_map_4f568ff4816d686b8f67902a3d2bda2c = L.heatLayer(\n",
       "                [[10.865869434535, 106.601940393448], [10.8661697240839, 106.601834446192], [10.8661499682018, 106.601811647415], [10.8663211858031, 106.601752638817], [10.8663211858031, 106.601723134518], [10.8506431521107, 106.814070939936], [10.853544395603, 106.81471574313], [10.850714215354, 106.814162135124], [10.8545022278362, 106.814140677452], [10.8572317657569, 106.815510747983], [10.853584574184, 106.814859509468], [10.8503635853989, 106.81463688612], [10.8504162558806, 106.814585924149], [10.8507668857739, 106.814178228378], [10.8535355702561, 106.815054774088], [10.8573106555199, 106.815454959869], [10.8543547524802, 106.81411921978], [10.8535566382263, 106.815322994989], [10.853584574184, 106.814859509468], [10.8504558261346, 106.814087033272], [10.853544395603, 106.81471574313], [10.8504189568033, 106.814062893391], [10.8471099585749, 106.81270301342], [10.7061975821438, 106.703754988082], [10.7063991237297, 106.703739572269], [10.7086993750517, 106.704993037819], [10.7065686105759, 106.703732581232], [10.7064545307018, 106.703825371084], [10.7062106293478, 106.703956652474], [10.7064568948283, 106.704098564233], [10.7064214640045, 106.703904611544], [10.7061637451069, 106.703989445814], [10.7064873684232, 106.704110459844], [10.7068159658402, 106.704801716415], [10.7061428853941, 106.703962555462], [10.7060475397265, 106.703505189929], [10.7063089745122, 106.70320975291], [10.7064475100329, 106.703778928097], [10.7064567758215, 106.703824893265], [10.7061192444401, 106.703959724874], [10.7064042968927, 106.703695307813], [10.7097971032758, 106.700575745854], [10.7064601582016, 106.703842756048], [10.7063352782015, 106.703448895394], [10.7062212301658, 106.703824699226], [10.852418013, 106.71117521], [10.852118013, 106.71138521], [10.851638013, 106.71129521], [10.851308013, 106.71126521], [10.852208013, 106.71123521], [10.851818013, 106.71123521], [10.851758013, 106.71135521], [10.852388013, 106.71120521], [10.851728013, 106.71117521], [10.851728013, 106.71123521], [10.851698013, 106.71126521], [10.851848013, 106.71138521], [10.851458013, 106.71135521], [10.851728013, 106.71132521], [10.852058013, 106.71132521], [10.851578013, 106.71132521], [10.851158013, 106.71126521], [10.852058013, 106.71117521], [10.851428013, 106.71120521], [10.851308013, 106.71117521], [10.852148013, 106.71132521], [10.851788013, 106.71135521], [10.852178013, 106.71123521], [10.851578013, 106.71135521], [10.852028013, 106.71138521], [10.852148013, 106.71117521], [10.852328013, 106.71132521], [10.852418013, 106.71123521], [10.852298013, 106.71126521], [10.851338013, 106.71117521], [10.851638013, 106.71123521], [10.852028013, 106.71126521], [10.852118013, 106.71132521], [10.851758013, 106.71123521], [10.851578013, 106.71120521], [10.851308013, 106.71129521], [10.852418013, 106.71114521], [10.852388013, 106.71114521], [10.851968013, 106.71129521], [10.851668013, 106.71120521], [10.851788013, 106.71117521], [10.851158013, 106.71120521], [10.851428013, 106.71138521], [10.851188013, 106.71117521], [10.852178013, 106.71117521], [10.851848013, 106.71123521], [10.852418013, 106.71120521], [10.852268013, 106.71129521], [10.851878013, 106.71117521], [10.851908013, 106.71126521], [10.852028013, 106.71132521], [10.851848013, 106.71129521], [10.851668013, 106.71117521], [10.851968013, 106.71126521], [10.851548013, 106.71132521], [10.852328013, 106.71138521], [10.851938013, 106.71126521], [10.851458013, 106.71123521], [10.851188013, 106.71123521], [10.852418013, 106.71126521], [10.851788013, 106.71138521], [10.852358013, 106.71120521], [10.851458013, 106.71129521], [10.851458013, 106.71132521], [10.851248013, 106.71123521], [10.852208013, 106.71135521], [10.852148013, 106.71129521], [10.851638013, 106.71138521], [10.851518013, 106.71126521], [10.851818013, 106.71117521], [10.851488013, 106.71117521], [10.851398013, 106.71126521], [10.852268013, 106.71123521], [10.851998013, 106.71126521], [10.851788013, 106.71120521], [10.851248013, 106.71138521], [10.851368013, 106.71135521], [10.851368013, 106.71129521], [10.851698013, 106.71123521], [10.852058013, 106.71135521], [10.851668013, 106.71135521], [10.852118013, 106.71126521], [10.852238013, 106.71126521], [10.852208013, 106.71132521], [10.852298013, 106.71129521], [10.852328013, 106.71135521], [10.851338013, 106.71132521], [10.851758013, 106.71126521], [10.851668013, 106.71123521], [10.851968013, 106.71123521], [10.851908013, 106.71138521], [10.851428013, 106.71129521], [10.851578013, 106.71123521], [10.852058013, 106.71126521], [10.851368013, 106.71138521], [10.851878013, 106.71126521], [10.853738013, 106.71138521], [10.851998013, 106.71120521], [10.851518013, 106.71138521], [10.852058013, 106.71123521], [10.852028013, 106.71129521], [10.851908013, 106.71129521], [10.851878013, 106.71123521], [10.851968013, 106.71138521], [10.851188013, 106.71135521], [10.852238013, 106.71129521], [10.851968013, 106.71117521], [10.852178013, 106.71126521], [10.851458013, 106.71120521], [10.851818013, 106.71126521], [10.851218013, 106.71129521], [10.851278013, 106.71129521], [10.851698013, 106.71117521], [10.852268013, 106.71135521], [10.851968013, 106.71132521], [10.851938013, 106.71120521], [10.851248013, 106.71117521], [10.852268013, 106.71120521], [10.851398013, 106.71132521], [10.851938013, 106.71117521], [10.851308013, 106.71135521], [10.851338013, 106.71120521], [10.852358013, 106.71135521], [10.851368013, 106.71123521], [10.851788013, 106.71126521], [10.852058013, 106.71120521], [10.851908013, 106.71117521], [10.852298013, 106.71135521], [10.851638013, 106.71126521], [10.851758013, 106.71138521], [10.852118013, 106.71117521], [10.852358013, 106.71132521], [10.851158013, 106.71138521], [10.851788013, 106.71123521], [10.851698013, 106.71132521], [10.851638013, 106.71135521], [10.851308013, 106.71132521], [10.851578013, 106.71117521], [10.852268013, 106.71126521], [10.851848013, 106.71117521], [10.851848013, 106.71120521], [10.851428013, 106.71135521], [10.852118013, 106.71120521], [10.851458013, 106.71117521], [10.851338013, 106.71126521], [10.851518013, 106.71129521], [10.851728013, 106.71120521], [10.851578013, 106.71129521], [10.851488013, 106.71132521], [10.852088013, 106.71117521], [10.851518013, 106.71132521], [10.851848013, 106.71126521], [10.852148013, 106.71135521], [10.852418013, 106.71129521], [10.852328013, 106.71129521], [10.851308013, 106.71120521], [10.851758013, 106.71129521], [10.851158013, 106.71135521], [10.851368013, 106.71120521], [10.851188013, 106.71132521], [10.851488013, 106.71129521], [10.851698013, 106.71120521], [10.852058013, 106.71138521], [10.851938013, 106.71123521], [10.851248013, 106.71132521], [10.851428013, 106.71132521], [10.852178013, 106.71135521], [10.852298013, 106.71138521], [10.851938013, 106.71135521], [10.851248013, 106.71126521], [10.851728013, 106.71138521], [10.851728013, 106.71135521], [10.851848013, 106.71132521], [10.851818013, 106.71132521], [10.851548013, 106.71117521], [10.852328013, 106.71126521], [10.851608013, 106.71117521], [10.851908013, 106.71123521], [10.852328013, 106.71117521], [10.851878013, 106.71135521], [10.852178013, 106.71120521], [10.851458013, 106.71138521], [10.851218013, 106.71120521], [10.852388013, 106.71123521], [10.851518013, 106.71123521], [10.852088013, 106.71120521], [10.851158013, 106.71117521], [10.852208013, 106.71138521], [10.852238013, 106.71135521], [10.852088013, 106.71123521], [10.852178013, 106.71129521], [10.851938013, 106.71132521], [10.851158013, 106.71132521], [10.851878013, 106.71120521], [10.851998013, 106.71117521], [10.851218013, 106.71117521], [10.851788013, 106.71132521], [10.851278013, 106.71132521], [10.852298013, 106.71117521], [10.852088013, 106.71129521], [10.851338013, 106.71138521], [10.851248013, 106.71120521], [10.852358013, 106.71129521], [10.851308013, 106.71138521], [10.851548013, 106.71120521], [10.852178013, 106.71132521], [10.851968013, 106.71120521], [10.852028013, 106.71135521], [10.851398013, 106.71123521], [10.851188013, 106.71126521], [10.851938013, 106.71138521], [10.851368013, 106.71132521], [10.852238013, 106.71138521], [10.851548013, 106.71129521], [10.852358013, 106.71117521], [10.851278013, 106.71117521], [10.851518013, 106.71135521], [10.851638013, 106.71132521], [10.851158013, 106.71129521], [10.851428013, 106.71117521], [10.851608013, 106.71138521], [10.851698013, 106.71135521], [10.852238013, 106.71132521], [10.851398013, 106.71138521], [10.851668013, 106.71138521], [10.851548013, 106.71135521], [10.851398013, 106.71117521], [10.851278013, 106.71135521], [10.851158013, 106.71123521], [10.851248013, 106.71135521], [10.852148013, 106.71123521], [10.851278013, 106.71120521], [10.851608013, 106.71135521], [10.851548013, 106.71138521], [10.852328013, 106.71123521], [10.852358013, 106.71123521], [10.851638013, 106.71117521], [10.852148013, 106.71126521], [10.851218013, 106.71138521], [10.852208013, 106.71126521], [10.852358013, 106.71126521], [10.851998013, 106.71138521], [10.851368013, 106.71117521], [10.851428013, 106.71123521], [10.851338013, 106.71123521], [10.852208013, 106.71129521], [10.852028013, 106.71117521], [10.851458013, 106.71126521], [10.852028013, 106.71123521], [10.851428013, 106.71126521], [10.852028013, 106.71120521], [10.851488013, 106.71135521], [10.851488013, 106.71138521], [10.852328013, 106.71120521], [10.852388013, 106.71138521], [10.851818013, 106.71120521], [10.851938013, 106.71129521], [10.852208013, 106.71120521], [10.851758013, 106.71117521], [10.852118013, 106.71123521], [10.852238013, 106.71117521], [10.852298013, 106.71120521], [10.852148013, 106.71120521], [10.851218013, 106.71126521], [10.854068013, 106.71132521], [10.851188013, 106.71138521], [10.851488013, 106.71123521], [10.851728013, 106.71126521], [10.851518013, 106.71117521], [10.852388013, 106.71132521], [10.851278013, 106.71138521], [10.851908013, 106.71120521], [10.852268013, 106.71117521], [10.851818013, 106.71129521], [10.852208013, 106.71117521], [10.851998013, 106.71123521], [10.851218013, 106.71123521], [10.852238013, 106.71123521], [10.852088013, 106.71135521], [10.851788013, 106.71129521], [10.851488013, 106.71120521], [10.852118013, 106.71129521], [10.852388013, 106.71126521], [10.852418013, 106.71135521], [10.851368013, 106.71126521], [10.851518013, 106.71120521], [10.851908013, 106.71132521], [10.851758013, 106.71132521], [10.851548013, 106.71123521], [10.851548013, 106.71126521], [10.851698013, 106.71129521], [10.852268013, 106.71132521], [10.851998013, 106.71135521], [10.851188013, 106.71120521], [10.851398013, 106.71129521], [10.852388013, 106.71129521], [10.851848013, 106.71135521], [10.852088013, 106.71138521], [10.851608013, 106.71126521], [10.851278013, 106.71126521], [10.851488013, 106.71126521], [10.851398013, 106.71120521], [10.852238013, 106.71120521], [10.851578013, 106.71138521], [10.852418013, 106.71138521], [10.851578013, 106.71126521], [10.851398013, 106.71135521], [10.854758013, 106.71117521], [10.851308013, 106.71123521], [10.852298013, 106.71123521], [10.851608013, 106.71132521], [10.851698013, 106.71138521], [10.852358013, 106.71114521], [10.851218013, 106.71135521], [10.852148013, 106.71138521], [10.851218013, 106.71132521], [10.851638013, 106.71120521], [10.851608013, 106.71123521], [10.852118013, 106.71135521], [10.851668013, 106.71126521], [10.851188013, 106.71129521], [10.851608013, 106.71120521], [10.851338013, 106.71129521], [10.851818013, 106.71135521], [10.851338013, 106.71135521], [10.851758013, 106.71120521], [10.852298013, 106.71132521], [10.852088013, 106.71132521], [10.852388013, 106.71135521], [10.851608013, 106.71129521], [10.852178013, 106.71138521], [10.852088013, 106.71126521], [10.852358013, 106.71138521], [10.851878013, 106.71138521], [10.851998013, 106.71132521], [10.851968013, 106.71135521], [10.851878013, 106.71132521], [10.852268013, 106.71138521], [10.851728013, 106.71129521], [10.851668013, 106.71132521], [10.852388013, 106.71117521], [10.851668013, 106.71129521], [10.851998013, 106.71129521], [10.852418013, 106.71132521], [10.851878013, 106.71129521], [10.851248013, 106.71129521], [10.851908013, 106.71135521], [10.851278013, 106.71123521], [10.852058013, 106.71129521], [10.851818013, 106.71138521], [10.7912052020479, 106.729710102081], [10.7869421029031, 106.729282289743], [10.7883622644001, 106.728548705578], [10.7886863448408, 106.728190630674], [10.788350407792, 106.72854334116], [10.7886705360469, 106.728315353394], [10.7885572396665, 106.728432029486], [10.7874954133748, 106.72922462225], [10.787426908324, 106.729318499565], [10.7886073008631, 106.728183925152], [10.7885137654626, 106.728083342314], [10.7886837100419, 106.728272438049], [10.7887469452097, 106.72832608223], [10.7870250995387, 106.729229986668], [10.7884755608541, 106.728186607361], [10.788673170846, 106.72823086381]],\n",
       "                {&quot;blur&quot;: 15, &quot;maxZoom&quot;: 18, &quot;minOpacity&quot;: 0.5, &quot;radius&quot;: 25}\n",
       "            ).addTo(map_a7b18d94df390b324de43d4d02e4b9a5);\n",
       "        \n",
       "&lt;/script&gt;\" style=\"position:absolute;width:100%;height:100%;left:0;top:0;border:none !important;\" allowfullscreen webkitallowfullscreen mozallowfullscreen></iframe></div></div>"
      ],
      "text/plain": [
       "<folium.folium.Map at 0x1d798d3a250>"
      ]
     },
     "execution_count": 23,
     "metadata": {},
     "output_type": "execute_result"
    }
   ],
   "source": [
    "from folium import plugins\n",
    "m = folium.Map( location=[10.772095,106.701965], zoom_start=12, tiles='OpenStreetMap')\n",
    "# for _, r in data_new.iterrows():\n",
    "#     # Without simplifying the representation of each borough,\n",
    "#     # the map might not be displayed\n",
    "#     sim_geo = gpd.GeoSeries(r['geometry']).simplify(tolerance=0.001)\n",
    "#     geo_j = sim_geo.to_json()\n",
    "#     geo_j = folium.GeoJson(data=geo_j,\n",
    "#                            style_function=lambda x: {'fillColor': 'orange'})\n",
    "#     folium.Popup(r['Dist_Name']).add_to(geo_j)\n",
    "#     geo_j.add_to(m)\n",
    "\n",
    "#heat_data = [[point.xy[1][0], point.xy[0][0]] for point in points[\"geometry\"] ]\n",
    "heat_data = [[point.xy[1][0], point.xy[0][0]] for point in list_points]\n",
    "\n",
    "heat_data\n",
    "plugins.HeatMap(heat_data).add_to(m)\n",
    "\n",
    "m"
   ]
  },
  {
   "cell_type": "code",
   "execution_count": 24,
   "id": "0cec3fcf",
   "metadata": {},
   "outputs": [],
   "source": [
    "from webdriver_manager.chrome import ChromeDriverManager\n",
    "from selenium import webdriver\n",
    "import time"
   ]
  },
  {
   "cell_type": "code",
   "execution_count": 25,
   "id": "b4193a1f",
   "metadata": {},
   "outputs": [],
   "source": [
    "delay=5\n",
    "fn=r'./output/heatmap.html'\n",
    "tmpurl='file://{path}/{mapfile}'.format(path=os.getcwd(),mapfile=fn)\n",
    "m.save(fn)\n",
    "\n",
    "browser = webdriver.Chrome(ChromeDriverManager().install())"
   ]
  },
  {
   "cell_type": "code",
   "execution_count": 26,
   "id": "e7d9a8e2",
   "metadata": {},
   "outputs": [],
   "source": [
    "browser.get(tmpurl)\n",
    "#Give the map tiles some time to load\n",
    "time.sleep(delay)\n",
    "browser.save_screenshot(r'./output/heatmap.png')\n",
    "browser.quit()"
   ]
  }
 ],
 "metadata": {
  "kernelspec": {
   "display_name": "Python 3 (ipykernel)",
   "language": "python",
   "name": "python3"
  },
  "language_info": {
   "codemirror_mode": {
    "name": "ipython",
    "version": 3
   },
   "file_extension": ".py",
   "mimetype": "text/x-python",
   "name": "python",
   "nbconvert_exporter": "python",
   "pygments_lexer": "ipython3",
   "version": "3.9.13"
  }
 },
 "nbformat": 4,
 "nbformat_minor": 5
}
