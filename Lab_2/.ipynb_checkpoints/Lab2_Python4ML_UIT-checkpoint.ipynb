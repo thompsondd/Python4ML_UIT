{
 "cells": [
  {
   "cell_type": "markdown",
   "metadata": {},
   "source": [
    "Họ tên: Nguyễn Huỳnh Hải Đăng \\\n",
    "MSSV: 20521159"
   ]
  },
  {
   "cell_type": "markdown",
   "metadata": {
    "id": "UlIbafnzH2kc"
   },
   "source": [
    "# Load libarary and data"
   ]
  },
  {
   "cell_type": "code",
   "execution_count": 1,
   "metadata": {
    "id": "iT2xbGdNEPqJ"
   },
   "outputs": [],
   "source": [
    "import geopandas as gpd\n",
    "import numpy as pd\n",
    "import os"
   ]
  },
  {
   "cell_type": "code",
   "execution_count": 2,
   "metadata": {
    "id": "UGY-SXsBEvZZ"
   },
   "outputs": [],
   "source": [
    "path_data=\"./data/CSL_HCMC/Data/GIS/Population/population_HCMC/population_shapefile/Population_Ward_Level.shp\""
   ]
  },
  {
   "cell_type": "code",
   "execution_count": 3,
   "metadata": {
    "id": "5U955oHFFCEu"
   },
   "outputs": [],
   "source": [
    "data = gpd.read_file(path_data)"
   ]
  },
  {
   "cell_type": "code",
   "execution_count": 4,
   "metadata": {
    "colab": {
     "base_uri": "https://localhost:8080/",
     "height": 0
    },
    "id": "4pASrt_3FJ-G",
    "outputId": "71d8a6bf-0dd0-4187-c133-9096fed457ec"
   },
   "outputs": [
    {
     "data": {
      "text/html": [
       "<div>\n",
       "<style scoped>\n",
       "    .dataframe tbody tr th:only-of-type {\n",
       "        vertical-align: middle;\n",
       "    }\n",
       "\n",
       "    .dataframe tbody tr th {\n",
       "        vertical-align: top;\n",
       "    }\n",
       "\n",
       "    .dataframe thead th {\n",
       "        text-align: right;\n",
       "    }\n",
       "</style>\n",
       "<table border=\"1\" class=\"dataframe\">\n",
       "  <thead>\n",
       "    <tr style=\"text-align: right;\">\n",
       "      <th></th>\n",
       "      <th>Com_Name</th>\n",
       "      <th>Dist_Name</th>\n",
       "      <th>Com_ID</th>\n",
       "      <th>Dist_ID</th>\n",
       "      <th>Level</th>\n",
       "      <th>Pop_2009</th>\n",
       "      <th>Pop_2019</th>\n",
       "      <th>Den_2009</th>\n",
       "      <th>Den_2019</th>\n",
       "      <th>Shape_Leng</th>\n",
       "      <th>Shape_Area</th>\n",
       "      <th>geometry</th>\n",
       "    </tr>\n",
       "  </thead>\n",
       "  <tbody>\n",
       "    <tr>\n",
       "      <th>0</th>\n",
       "      <td>Tan Dinh</td>\n",
       "      <td>District 1</td>\n",
       "      <td>26734</td>\n",
       "      <td>760</td>\n",
       "      <td>Ward</td>\n",
       "      <td>26571.0</td>\n",
       "      <td>23258.0</td>\n",
       "      <td>41942.70</td>\n",
       "      <td>36713.10</td>\n",
       "      <td>3679.098196</td>\n",
       "      <td>6.334981e+05</td>\n",
       "      <td>POLYGON ((684350.511 1193546.266, 684363.810 1...</td>\n",
       "    </tr>\n",
       "    <tr>\n",
       "      <th>1</th>\n",
       "      <td>Ben Nghe</td>\n",
       "      <td>District 1</td>\n",
       "      <td>26740</td>\n",
       "      <td>760</td>\n",
       "      <td>Ward</td>\n",
       "      <td>13580.0</td>\n",
       "      <td>10633.0</td>\n",
       "      <td>5480.09</td>\n",
       "      <td>4290.86</td>\n",
       "      <td>6978.149149</td>\n",
       "      <td>2.478041e+06</td>\n",
       "      <td>POLYGON ((686564.657 1193462.473, 686588.924 1...</td>\n",
       "    </tr>\n",
       "    <tr>\n",
       "      <th>2</th>\n",
       "      <td>Cau Ong Lanh</td>\n",
       "      <td>District 1</td>\n",
       "      <td>26752</td>\n",
       "      <td>760</td>\n",
       "      <td>Ward</td>\n",
       "      <td>12917.0</td>\n",
       "      <td>10737.0</td>\n",
       "      <td>56878.90</td>\n",
       "      <td>47279.50</td>\n",
       "      <td>2260.705105</td>\n",
       "      <td>2.270938e+05</td>\n",
       "      <td>POLYGON ((685922.373 1190479.807, 685914.160 1...</td>\n",
       "    </tr>\n",
       "    <tr>\n",
       "      <th>3</th>\n",
       "      <td>Nguyen Thai Binh</td>\n",
       "      <td>District 1</td>\n",
       "      <td>26746</td>\n",
       "      <td>760</td>\n",
       "      <td>Ward</td>\n",
       "      <td>13197.0</td>\n",
       "      <td>9716.0</td>\n",
       "      <td>26798.80</td>\n",
       "      <td>19730.00</td>\n",
       "      <td>3320.174618</td>\n",
       "      <td>4.924426e+05</td>\n",
       "      <td>POLYGON ((685966.333 1190513.667, 685944.353 1...</td>\n",
       "    </tr>\n",
       "    <tr>\n",
       "      <th>4</th>\n",
       "      <td>Co Giang</td>\n",
       "      <td>District 1</td>\n",
       "      <td>26755</td>\n",
       "      <td>760</td>\n",
       "      <td>Ward</td>\n",
       "      <td>18967.0</td>\n",
       "      <td>11517.0</td>\n",
       "      <td>53327.60</td>\n",
       "      <td>32381.20</td>\n",
       "      <td>2525.453814</td>\n",
       "      <td>3.556650e+05</td>\n",
       "      <td>POLYGON ((685514.573 1190211.431, 685547.521 1...</td>\n",
       "    </tr>\n",
       "    <tr>\n",
       "      <th>...</th>\n",
       "      <td>...</td>\n",
       "      <td>...</td>\n",
       "      <td>...</td>\n",
       "      <td>...</td>\n",
       "      <td>...</td>\n",
       "      <td>...</td>\n",
       "      <td>...</td>\n",
       "      <td>...</td>\n",
       "      <td>...</td>\n",
       "      <td>...</td>\n",
       "      <td>...</td>\n",
       "      <td>...</td>\n",
       "    </tr>\n",
       "    <tr>\n",
       "      <th>317</th>\n",
       "      <td>Tan Hung Thuan</td>\n",
       "      <td>District 12</td>\n",
       "      <td>26787</td>\n",
       "      <td>761</td>\n",
       "      <td>Ward</td>\n",
       "      <td>28892.0</td>\n",
       "      <td>33467.0</td>\n",
       "      <td>16053.40</td>\n",
       "      <td>18595.50</td>\n",
       "      <td>6271.308704</td>\n",
       "      <td>1.799659e+06</td>\n",
       "      <td>POLYGON ((677816.513 1197206.772, 677796.932 1...</td>\n",
       "    </tr>\n",
       "    <tr>\n",
       "      <th>318</th>\n",
       "      <td>Ward 17</td>\n",
       "      <td>Go Vap</td>\n",
       "      <td>26875</td>\n",
       "      <td>764</td>\n",
       "      <td>Ward</td>\n",
       "      <td>44226.0</td>\n",
       "      <td>54728.0</td>\n",
       "      <td>38061.20</td>\n",
       "      <td>47099.30</td>\n",
       "      <td>6385.950275</td>\n",
       "      <td>1.161947e+06</td>\n",
       "      <td>POLYGON ((683516.949 1200006.226, 683509.721 1...</td>\n",
       "    </tr>\n",
       "    <tr>\n",
       "      <th>319</th>\n",
       "      <td>Ward 8</td>\n",
       "      <td>Go Vap</td>\n",
       "      <td>26898</td>\n",
       "      <td>764</td>\n",
       "      <td>Ward</td>\n",
       "      <td>26545.0</td>\n",
       "      <td>32778.0</td>\n",
       "      <td>22751.50</td>\n",
       "      <td>28093.70</td>\n",
       "      <td>5409.821020</td>\n",
       "      <td>1.166701e+06</td>\n",
       "      <td>POLYGON ((680928.492 1199066.285, 680984.889 1...</td>\n",
       "    </tr>\n",
       "    <tr>\n",
       "      <th>320</th>\n",
       "      <td>Ward 9</td>\n",
       "      <td>Go Vap</td>\n",
       "      <td>26897</td>\n",
       "      <td>764</td>\n",
       "      <td>Ward</td>\n",
       "      <td>26785.0</td>\n",
       "      <td>34596.0</td>\n",
       "      <td>31843.10</td>\n",
       "      <td>41129.20</td>\n",
       "      <td>3950.799798</td>\n",
       "      <td>8.411288e+05</td>\n",
       "      <td>POLYGON ((681120.443 1199640.183, 681120.846 1...</td>\n",
       "    </tr>\n",
       "    <tr>\n",
       "      <th>321</th>\n",
       "      <td>Ward 12</td>\n",
       "      <td>Go Vap</td>\n",
       "      <td>26881</td>\n",
       "      <td>764</td>\n",
       "      <td>Ward</td>\n",
       "      <td>50356.0</td>\n",
       "      <td>60502.0</td>\n",
       "      <td>35096.20</td>\n",
       "      <td>42167.60</td>\n",
       "      <td>4848.143508</td>\n",
       "      <td>1.434747e+06</td>\n",
       "      <td>POLYGON ((679970.916 1198480.707, 679932.874 1...</td>\n",
       "    </tr>\n",
       "  </tbody>\n",
       "</table>\n",
       "<p>322 rows × 12 columns</p>\n",
       "</div>"
      ],
      "text/plain": [
       "             Com_Name    Dist_Name Com_ID Dist_ID Level  Pop_2009  Pop_2019  \\\n",
       "0            Tan Dinh   District 1  26734     760  Ward   26571.0   23258.0   \n",
       "1            Ben Nghe   District 1  26740     760  Ward   13580.0   10633.0   \n",
       "2        Cau Ong Lanh   District 1  26752     760  Ward   12917.0   10737.0   \n",
       "3    Nguyen Thai Binh   District 1  26746     760  Ward   13197.0    9716.0   \n",
       "4            Co Giang   District 1  26755     760  Ward   18967.0   11517.0   \n",
       "..                ...          ...    ...     ...   ...       ...       ...   \n",
       "317    Tan Hung Thuan  District 12  26787     761  Ward   28892.0   33467.0   \n",
       "318           Ward 17       Go Vap  26875     764  Ward   44226.0   54728.0   \n",
       "319            Ward 8       Go Vap  26898     764  Ward   26545.0   32778.0   \n",
       "320            Ward 9       Go Vap  26897     764  Ward   26785.0   34596.0   \n",
       "321           Ward 12       Go Vap  26881     764  Ward   50356.0   60502.0   \n",
       "\n",
       "     Den_2009  Den_2019   Shape_Leng    Shape_Area  \\\n",
       "0    41942.70  36713.10  3679.098196  6.334981e+05   \n",
       "1     5480.09   4290.86  6978.149149  2.478041e+06   \n",
       "2    56878.90  47279.50  2260.705105  2.270938e+05   \n",
       "3    26798.80  19730.00  3320.174618  4.924426e+05   \n",
       "4    53327.60  32381.20  2525.453814  3.556650e+05   \n",
       "..        ...       ...          ...           ...   \n",
       "317  16053.40  18595.50  6271.308704  1.799659e+06   \n",
       "318  38061.20  47099.30  6385.950275  1.161947e+06   \n",
       "319  22751.50  28093.70  5409.821020  1.166701e+06   \n",
       "320  31843.10  41129.20  3950.799798  8.411288e+05   \n",
       "321  35096.20  42167.60  4848.143508  1.434747e+06   \n",
       "\n",
       "                                              geometry  \n",
       "0    POLYGON ((684350.511 1193546.266, 684363.810 1...  \n",
       "1    POLYGON ((686564.657 1193462.473, 686588.924 1...  \n",
       "2    POLYGON ((685922.373 1190479.807, 685914.160 1...  \n",
       "3    POLYGON ((685966.333 1190513.667, 685944.353 1...  \n",
       "4    POLYGON ((685514.573 1190211.431, 685547.521 1...  \n",
       "..                                                 ...  \n",
       "317  POLYGON ((677816.513 1197206.772, 677796.932 1...  \n",
       "318  POLYGON ((683516.949 1200006.226, 683509.721 1...  \n",
       "319  POLYGON ((680928.492 1199066.285, 680984.889 1...  \n",
       "320  POLYGON ((681120.443 1199640.183, 681120.846 1...  \n",
       "321  POLYGON ((679970.916 1198480.707, 679932.874 1...  \n",
       "\n",
       "[322 rows x 12 columns]"
      ]
     },
     "execution_count": 4,
     "metadata": {},
     "output_type": "execute_result"
    }
   ],
   "source": [
    "data"
   ]
  },
  {
   "cell_type": "markdown",
   "metadata": {
    "id": "pahk6V8XHvhz"
   },
   "source": [
    "# Request data"
   ]
  },
  {
   "cell_type": "markdown",
   "metadata": {
    "id": "ZDjFs9_xICCL"
   },
   "source": [
    "## Phường có diện tích lớn nhất"
   ]
  },
  {
   "cell_type": "code",
   "execution_count": 5,
   "metadata": {
    "colab": {
     "base_uri": "https://localhost:8080/"
    },
    "id": "JJWfNdtsFM7u",
    "outputId": "93b3fe01-2793-435e-c25b-fac1d1c01b6e"
   },
   "outputs": [
    {
     "name": "stdout",
     "output_type": "stream",
     "text": [
      "Phường có diện tích lớn nhất là phường Ly Nhon huyện Can Gio\n"
     ]
    }
   ],
   "source": [
    "Com_name_max_area = data.iloc[data[\"Shape_Area\"].idxmax()]\n",
    "d = Com_name_max_area[[\"Com_Name\",\"Dist_Name\"]].tolist()\n",
    "print(f\"Phường có diện tích lớn nhất là phường {d[0]} huyện {d[1]}\")"
   ]
  },
  {
   "cell_type": "markdown",
   "metadata": {
    "id": "7_XlDhKNIIDm"
   },
   "source": [
    "## Phường có dân số lớn nhất"
   ]
  },
  {
   "cell_type": "code",
   "execution_count": 6,
   "metadata": {
    "colab": {
     "base_uri": "https://localhost:8080/"
    },
    "id": "IjPh8F0PGCM5",
    "outputId": "688a2127-d216-40ab-cf19-41f3fa32dbf9"
   },
   "outputs": [
    {
     "name": "stdout",
     "output_type": "stream",
     "text": [
      "Phường có dân số lớn nhất là phường Vinh Loc A huyện Binh Chanh\n"
     ]
    }
   ],
   "source": [
    "Com_name_max_pop = data.iloc[data[\"Pop_2019\"].idxmax()]\n",
    "d = Com_name_max_pop[[\"Com_Name\",\"Dist_Name\"]].tolist()\n",
    "print(f\"Phường có dân số lớn nhất là phường {d[0]} huyện {d[1]}\")"
   ]
  },
  {
   "cell_type": "markdown",
   "metadata": {
    "id": "gT_kClA9IUFK"
   },
   "source": [
    "## Phường có diện tích nhỏ nhất"
   ]
  },
  {
   "cell_type": "code",
   "execution_count": 7,
   "metadata": {
    "colab": {
     "base_uri": "https://localhost:8080/"
    },
    "id": "Etkpiz3-GRqz",
    "outputId": "43013631-2ccd-4a71-8d1c-d1c7198b918e"
   },
   "outputs": [
    {
     "name": "stdout",
     "output_type": "stream",
     "text": [
      "Phường có diện tích nhỏ nhất là phường An Khanh huyện 2\n"
     ]
    }
   ],
   "source": [
    "Com_name_min_pop = data.iloc[data[\"Pop_2019\"].idxmin()]\n",
    "d = Com_name_min_pop[[\"Com_Name\",\"Dist_Name\"]].tolist()\n",
    "print(f\"Phường có diện tích nhỏ nhất là phường {d[0]} huyện {d[1].split('District ')[1]}\")"
   ]
  },
  {
   "cell_type": "markdown",
   "metadata": {
    "id": "lVnB3YRXKC4M"
   },
   "source": [
    "## Phường nào có tốc độ tăng trưởng dân số nhanh nhất (dựa trên Pop_2009 và Pop_2019)"
   ]
  },
  {
   "cell_type": "code",
   "execution_count": 8,
   "metadata": {
    "colab": {
     "base_uri": "https://localhost:8080/"
    },
    "id": "QKQvmbmUJgH3",
    "outputId": "0401cc4c-e57c-45ed-8875-8b7bb4cd2069"
   },
   "outputs": [
    {
     "name": "stderr",
     "output_type": "stream",
     "text": [
      "C:\\Users\\ACER\\AppData\\Local\\Temp\\ipykernel_10488\\2128529130.py:2: SettingWithCopyWarning: \n",
      "A value is trying to be set on a copy of a slice from a DataFrame.\n",
      "Try using .loc[row_indexer,col_indexer] = value instead\n",
      "\n",
      "See the caveats in the documentation: https://pandas.pydata.org/pandas-docs/stable/user_guide/indexing.html#returning-a-view-versus-a-copy\n",
      "  data_new[\"Grow_rate\"]=data_new[\"Pop_2019\"]/data_new[\"Pop_2009\"]\n"
     ]
    }
   ],
   "source": [
    "data_new=data[[\"Com_Name\",\"Dist_Name\",\"Pop_2009\",\"Pop_2019\"]]\n",
    "data_new[\"Grow_rate\"]=data_new[\"Pop_2019\"]/data_new[\"Pop_2009\"]"
   ]
  },
  {
   "cell_type": "code",
   "execution_count": 9,
   "metadata": {
    "colab": {
     "base_uri": "https://localhost:8080/"
    },
    "id": "VHCnF4ORKSfc",
    "outputId": "484d376d-7dc4-42a2-d1a2-cc105f376d9f"
   },
   "outputs": [
    {
     "name": "stdout",
     "output_type": "stream",
     "text": [
      "Phường có tốc độ tăng trưởng dân số nhanh nhất là phường Phu Huu huyện 9\n"
     ]
    }
   ],
   "source": [
    "Com_name_max_grow_rate_pop = data_new.iloc[data_new[\"Grow_rate\"].idxmax()]\n",
    "d = Com_name_max_grow_rate_pop[[\"Com_Name\",\"Dist_Name\"]].tolist()\n",
    "print(f\"Phường có tốc độ tăng trưởng dân số nhanh nhất là phường {d[0]} huyện {d[1].split('District ')[1]}\")"
   ]
  },
  {
   "cell_type": "markdown",
   "metadata": {
    "id": "h6daJcfPLKj4"
   },
   "source": [
    "## Phường nào có tốc độ tăng trưởng dân số thấp nhất"
   ]
  },
  {
   "cell_type": "code",
   "execution_count": 10,
   "metadata": {
    "colab": {
     "base_uri": "https://localhost:8080/"
    },
    "id": "-EwNdKIVKoUn",
    "outputId": "111ab397-384c-4faf-f7b6-55f0f595d83d"
   },
   "outputs": [
    {
     "name": "stderr",
     "output_type": "stream",
     "text": [
      "C:\\Users\\ACER\\AppData\\Local\\Temp\\ipykernel_10488\\2128529130.py:2: SettingWithCopyWarning: \n",
      "A value is trying to be set on a copy of a slice from a DataFrame.\n",
      "Try using .loc[row_indexer,col_indexer] = value instead\n",
      "\n",
      "See the caveats in the documentation: https://pandas.pydata.org/pandas-docs/stable/user_guide/indexing.html#returning-a-view-versus-a-copy\n",
      "  data_new[\"Grow_rate\"]=data_new[\"Pop_2019\"]/data_new[\"Pop_2009\"]\n"
     ]
    }
   ],
   "source": [
    "data_new=data[[\"Com_Name\",\"Dist_Name\",\"Pop_2009\",\"Pop_2019\"]]\n",
    "data_new[\"Grow_rate\"]=data_new[\"Pop_2019\"]/data_new[\"Pop_2009\"]"
   ]
  },
  {
   "cell_type": "code",
   "execution_count": 11,
   "metadata": {
    "colab": {
     "base_uri": "https://localhost:8080/"
    },
    "id": "-iS8t1-eLuTA",
    "outputId": "ff6fe869-1b8c-4ddd-91d0-10fa0e3b1744"
   },
   "outputs": [
    {
     "name": "stdout",
     "output_type": "stream",
     "text": [
      "Phường có tốc độ tăng trưởng dân số thấp nhất là phường An Khanh huyện 2\n"
     ]
    }
   ],
   "source": [
    "Com_name_max_grow_rate_pop = data_new.iloc[data_new[\"Grow_rate\"].idxmin()]\n",
    "d = Com_name_max_grow_rate_pop[[\"Com_Name\",\"Dist_Name\"]].tolist()\n",
    "print(f\"Phường có tốc độ tăng trưởng dân số thấp nhất là phường {d[0]} huyện {d[1].split('District ')[1]}\")"
   ]
  },
  {
   "cell_type": "markdown",
   "metadata": {
    "id": "gcyMN3iPL7bn"
   },
   "source": [
    "## Phường nào có biến động dân số nhanh nhất"
   ]
  },
  {
   "cell_type": "code",
   "execution_count": 12,
   "metadata": {
    "colab": {
     "base_uri": "https://localhost:8080/"
    },
    "id": "yxEaYtB_Lv_Z",
    "outputId": "9c1e1fb9-c2d1-4854-8433-5ef324b392b7"
   },
   "outputs": [
    {
     "name": "stderr",
     "output_type": "stream",
     "text": [
      "C:\\Users\\ACER\\AppData\\Local\\Temp\\ipykernel_10488\\1193990406.py:2: SettingWithCopyWarning: \n",
      "A value is trying to be set on a copy of a slice from a DataFrame.\n",
      "Try using .loc[row_indexer,col_indexer] = value instead\n",
      "\n",
      "See the caveats in the documentation: https://pandas.pydata.org/pandas-docs/stable/user_guide/indexing.html#returning-a-view-versus-a-copy\n",
      "  data_new[\"Fluatuation_rate\"]=(data_new[\"Pop_2019\"]-data_new[\"Pop_2009\"])/data_new[\"Pop_2009\"]\n"
     ]
    }
   ],
   "source": [
    "data_new=data[[\"Com_Name\",\"Dist_Name\",\"Pop_2009\",\"Pop_2019\"]]\n",
    "data_new[\"Fluatuation_rate\"]=(data_new[\"Pop_2019\"]-data_new[\"Pop_2009\"])/data_new[\"Pop_2009\"]"
   ]
  },
  {
   "cell_type": "code",
   "execution_count": 13,
   "metadata": {
    "colab": {
     "base_uri": "https://localhost:8080/"
    },
    "id": "R1MiKX5xMqx0",
    "outputId": "52b53a53-a60b-4ca0-ce8a-17c41aa661ca"
   },
   "outputs": [
    {
     "name": "stdout",
     "output_type": "stream",
     "text": [
      "Phường có biến động dân số nhanh nhất là phường Phu Huu huyện 9\n"
     ]
    }
   ],
   "source": [
    "Com_name_max_fluatuation_rate_pop = data_new.iloc[data_new[\"Fluatuation_rate\"].idxmax()]\n",
    "d = Com_name_max_fluatuation_rate_pop[[\"Com_Name\",\"Dist_Name\"]].tolist()\n",
    "print(f\"Phường có biến động dân số nhanh nhất là phường {d[0]} huyện {d[1].split('District ')[1]}\")"
   ]
  },
  {
   "cell_type": "markdown",
   "metadata": {
    "id": "mCtV3eAJNAyl"
   },
   "source": [
    "## Phường nào có biến động dân số chậm nhất"
   ]
  },
  {
   "cell_type": "code",
   "execution_count": 14,
   "metadata": {
    "colab": {
     "base_uri": "https://localhost:8080/"
    },
    "id": "VX5NmFGIMzh9",
    "outputId": "d74ae318-648c-497d-b68b-1cfe7a77fe00"
   },
   "outputs": [
    {
     "name": "stderr",
     "output_type": "stream",
     "text": [
      "C:\\Users\\ACER\\AppData\\Local\\Temp\\ipykernel_10488\\1193990406.py:2: SettingWithCopyWarning: \n",
      "A value is trying to be set on a copy of a slice from a DataFrame.\n",
      "Try using .loc[row_indexer,col_indexer] = value instead\n",
      "\n",
      "See the caveats in the documentation: https://pandas.pydata.org/pandas-docs/stable/user_guide/indexing.html#returning-a-view-versus-a-copy\n",
      "  data_new[\"Fluatuation_rate\"]=(data_new[\"Pop_2019\"]-data_new[\"Pop_2009\"])/data_new[\"Pop_2009\"]\n"
     ]
    }
   ],
   "source": [
    "data_new=data[[\"Com_Name\",\"Dist_Name\",\"Pop_2009\",\"Pop_2019\"]]\n",
    "data_new[\"Fluatuation_rate\"]=(data_new[\"Pop_2019\"]-data_new[\"Pop_2009\"])/data_new[\"Pop_2009\"]"
   ]
  },
  {
   "cell_type": "code",
   "execution_count": 15,
   "metadata": {
    "colab": {
     "base_uri": "https://localhost:8080/"
    },
    "id": "ADRKs_yPNH6c",
    "outputId": "9034e87b-74c2-461d-b8c1-e3fdcde41d43"
   },
   "outputs": [
    {
     "name": "stdout",
     "output_type": "stream",
     "text": [
      "Phường có biến động dân số chậm nhất là phường An Khanh huyện 2\n"
     ]
    }
   ],
   "source": [
    "Com_name_min_fluatuation_rate_pop = data_new.iloc[data_new[\"Fluatuation_rate\"].idxmin()]\n",
    "d = Com_name_min_fluatuation_rate_pop[[\"Com_Name\",\"Dist_Name\"]].tolist()\n",
    "print(f\"Phường có biến động dân số chậm nhất là phường {d[0]} huyện {d[1].split('District ')[1]}\")"
   ]
  },
  {
   "cell_type": "markdown",
   "metadata": {
    "id": "kTsvXUWgNh4g"
   },
   "source": [
    "## Phường nào có mật độ dân số cao nhất (2019)"
   ]
  },
  {
   "cell_type": "code",
   "execution_count": 16,
   "metadata": {
    "colab": {
     "base_uri": "https://localhost:8080/"
    },
    "id": "tjhvRegFNwKY",
    "outputId": "33bba3e0-b76e-4dac-8868-92aef149dad8"
   },
   "outputs": [
    {
     "name": "stdout",
     "output_type": "stream",
     "text": [
      "Phường có mật độ dân số cao nhất là phường 8 huyện 4\n"
     ]
    }
   ],
   "source": [
    "Com_name_max_MDDS = data.iloc[data[\"Den_2019\"].idxmax()]\n",
    "d = Com_name_max_MDDS[[\"Com_Name\",\"Dist_Name\"]].tolist()\n",
    "print(f\"Phường có mật độ dân số cao nhất là phường {d[0].split('Ward ')[1]} huyện {d[1].split('District ')[1]}\")"
   ]
  },
  {
   "cell_type": "markdown",
   "metadata": {
    "id": "uppLYZsQOEeS"
   },
   "source": [
    "## Phường nào có mật độ dân số thấp nhất (2019)"
   ]
  },
  {
   "cell_type": "code",
   "execution_count": 17,
   "metadata": {
    "colab": {
     "base_uri": "https://localhost:8080/"
    },
    "id": "U2hdme8KOM-s",
    "outputId": "cbbc6fac-9ab1-4fa8-f9c0-c64ab49f9dd8"
   },
   "outputs": [
    {
     "name": "stdout",
     "output_type": "stream",
     "text": [
      "Phường có mật độ dân số thấp nhất là phường Ly Nhon huyện Can Gio\n"
     ]
    }
   ],
   "source": [
    "Com_name_min_MDDS = data.iloc[data[\"Den_2019\"].idxmin()]\n",
    "d = Com_name_min_MDDS[[\"Com_Name\",\"Dist_Name\"]].tolist()\n",
    "print(f\"Phường có mật độ dân số thấp nhất là phường {d[0].split('Ward ')[1] if 'Ward ' in d[0] else d[0]} huyện {d[1].split('District ')[1] if 'District ' in d[1] else d[1]  }\")"
   ]
  }
 ],
 "metadata": {
  "colab": {
   "collapsed_sections": [
    "ZDjFs9_xICCL",
    "7_XlDhKNIIDm",
    "gT_kClA9IUFK",
    "lVnB3YRXKC4M",
    "h6daJcfPLKj4",
    "gcyMN3iPL7bn",
    "mCtV3eAJNAyl"
   ],
   "provenance": [],
   "toc_visible": true
  },
  "kernelspec": {
   "display_name": "Python 3 (ipykernel)",
   "language": "python",
   "name": "python3"
  },
  "language_info": {
   "codemirror_mode": {
    "name": "ipython",
    "version": 3
   },
   "file_extension": ".py",
   "mimetype": "text/x-python",
   "name": "python",
   "nbconvert_exporter": "python",
   "pygments_lexer": "ipython3",
   "version": "3.9.13"
  }
 },
 "nbformat": 4,
 "nbformat_minor": 1
}
